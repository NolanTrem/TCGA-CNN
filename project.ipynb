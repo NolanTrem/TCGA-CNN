{
  "nbformat": 4,
  "nbformat_minor": 0,
  "metadata": {
    "colab": {
      "provenance": [],
      "include_colab_link": true
    },
    "kernelspec": {
      "name": "python3",
      "display_name": "Python 3"
    },
    "language_info": {
      "name": "python"
    }
  },
  "cells": [
    {
      "cell_type": "markdown",
      "metadata": {
        "id": "view-in-github",
        "colab_type": "text"
      },
      "source": [
        "<a href=\"https://colab.research.google.com/github/NolanTrem/TCGA-CNN/blob/main/project.ipynb\" target=\"_parent\"><img src=\"https://colab.research.google.com/assets/colab-badge.svg\" alt=\"Open In Colab\"/></a>"
      ]
    },
    {
      "cell_type": "code",
      "execution_count": 1,
      "metadata": {
        "id": "uiCASgejnhFg"
      },
      "outputs": [],
      "source": [
        "import pandas as pd\n",
        "url = 'https://raw.githubusercontent.com/NolanTrem/HE2RNA_code/master/metadata/samples_description.csv'\n",
        "url_manifest = \"https://raw.githubusercontent.com/NolanTrem/HE2RNA_code/master/gdc_manifests/gdc_manifest.2018-03-13_alltranscriptome.txt\"\n",
        "transcriptome = pd.read_csv(url, delimiter='\\t')\n",
        "transcriptome_manifest_prep = pd.read_csv(url_manifest, delimiter='\\t')"
      ]
    },
    {
      "cell_type": "code",
      "source": [
        "#brain cancer files\n",
        "url2 = \"https://raw.githubusercontent.com/NolanTrem/TCGA-CNN/main/manifests/fullManifests/brainManifestFull.txt\"\n",
        "brain = pd.read_csv(url2, delimiter='\\t', skiprows=1, names=['id', 'filename', 'md5', 'size', 'state', 'tumor'])\n",
        "\n",
        "#breast cancer files\n",
        "url3 = \"https://raw.githubusercontent.com/NolanTrem/TCGA-CNN/main/manifests/fullManifests/breastManifestFull.txt\"\n",
        "breast = pd.read_csv(url3, delimiter='\\t', skiprows=1, names=['id', 'filename', 'md5', 'size', 'state', 'tumor'])\n",
        "\n",
        "#lung cancer files\n",
        "url4 = \"https://raw.githubusercontent.com/NolanTrem/TCGA-CNN/main/manifests/fullManifests/bronchusAndLungManifestFull.txt\"\n",
        "lung = pd.read_csv(url4, delimiter='\\t', skiprows=1, names=['id', 'filename', 'md5', 'size', 'state', 'tumor'])\n",
        "\n",
        "#kidney cancer files\n",
        "url5 = \"https://raw.githubusercontent.com/NolanTrem/TCGA-CNN/main/manifests/fullManifests/kidneyManifestFull.txt\"\n",
        "kidney = pd.read_csv(url5, delimiter='\\t', skiprows=1, names=['id', 'filename', 'md5', 'size', 'state', 'tumor'])\n",
        "\n",
        "#ovary cancer files\n",
        "url6 = \"https://raw.githubusercontent.com/NolanTrem/TCGA-CNN/main/manifests/fullManifests/ovarianManifestFull.txt\"\n",
        "ovary = pd.read_csv(url5, delimiter='\\t', skiprows=1, names=['id', 'filename', 'md5', 'size', 'state', 'tumor'])\n",
        "\n",
        "merged_cancer = pd.concat([brain, breast, lung, kidney, ovary], axis=0)"
      ],
      "metadata": {
        "id": "EZymEUJ500oM"
      },
      "execution_count": 2,
      "outputs": []
    },
    {
      "cell_type": "code",
      "source": [
        "def merge_data(transcriptome, svs):\n",
        "  svs['case_id'] = svs['filename'].str[:12]\n",
        "  svs['sample_id'] = svs['filename'].str[:16]\n",
        "  transcriptome = transcriptome.rename(columns={'Sample.ID': 'sample_id'})\n",
        "\n",
        "  common_ids = transcriptome[transcriptome['sample_id'].isin(svs['sample_id'])]['sample_id']\n",
        "  common_ids_df = pd.merge(transcriptome[transcriptome['sample_id'].isin(svs['sample_id'])], svs, on='sample_id')\n",
        "\n",
        "  common_ids_df = common_ids_df.drop(['Data.Category', 'Data.Type', 'md5', 'Sample.Type', 'size', 'state', 'case_id', 'Case.ID'], axis=1)\n",
        "  common_ids_df = common_ids_df.rename(columns={'File.ID': 'transcriptome_id', 'File.Name' : 'transcriptome_filename', \n",
        "                                                'Project.ID' : 'project_id', 'id' : 'slide_id', 'filename': 'slide_filename'})\n",
        "  \n",
        "  return common_ids_df"
      ],
      "metadata": {
        "id": "OQe7qHED3n-F"
      },
      "execution_count": 3,
      "outputs": []
    },
    {
      "cell_type": "markdown",
      "source": [
        "First 60 for each type. Exclude brain (995 tumors, 5 solid tissue normal)"
      ],
      "metadata": {
        "id": "lMRlMcyoMXW1"
      }
    },
    {
      "cell_type": "code",
      "source": [
        "brain1 = merge_data(transcriptome, brain)\n",
        "breast1 = merge_data(transcriptome, breast)\n",
        "lung1 = merge_data(transcriptome, lung)\n",
        "kidney1 = merge_data(transcriptome, kidney)\n",
        "ovary1 = merge_data(transcriptome, ovary)\n",
        "brain1['type'] = 'brain'\n",
        "breast1['type'] = 'breast'\n",
        "lung1['type'] = 'lung'\n",
        "kidney1['type'] = 'kidney'\n",
        "ovary1['type'] = 'ovary'\n",
        "\n",
        "dfs = [breast1, lung1, kidney1, ovary1]\n",
        "\n",
        "# create an empty list to hold the selected dataframes\n",
        "selected_dfs = []\n",
        "\n",
        "# loop through the dataframes and select the first 60 rows of each label type\n",
        "for df in dfs:\n",
        "    primary_tumor = df[df['tumor'] == 'Primary Tumor'].head(60)\n",
        "    solid_tissue_normal = df[df['tumor'] == 'Solid Tissue Normal'].head(60)\n",
        "    selected_df = pd.concat([primary_tumor, solid_tissue_normal])\n",
        "    selected_dfs.append(selected_df)\n",
        "\n",
        "# concatenate the selected dataframes into a single dataframe\n",
        "merged_df = pd.concat(selected_dfs, axis=0)\n",
        "#merged_df = pd.concat(dfs, axis = 0)"
      ],
      "metadata": {
        "id": "b5-GUYDYB-hv"
      },
      "execution_count": 4,
      "outputs": []
    },
    {
      "cell_type": "code",
      "source": [
        "merged_df.to_csv('merged_df.txt', sep='\\t', index=False)"
      ],
      "metadata": {
        "id": "UTeUq7Tr1DZU"
      },
      "execution_count": 5,
      "outputs": []
    },
    {
      "cell_type": "code",
      "source": [
        "print(brain[brain['tumor'] == 'Primary Tumor'].shape[0])\n",
        "print(brain[brain['tumor'] == 'Solid Tissue Normal'].shape[0])"
      ],
      "metadata": {
        "colab": {
          "base_uri": "https://localhost:8080/"
        },
        "id": "GliV1EdqJHNO",
        "outputId": "5361acce-0bbe-4615-d0e0-3dbfed079191"
      },
      "execution_count": null,
      "outputs": [
        {
          "output_type": "stream",
          "name": "stdout",
          "text": [
            "995\n",
            "5\n"
          ]
        }
      ]
    },
    {
      "cell_type": "code",
      "source": [
        "transcriptome_manifest = transcriptome_manifest_prep[transcriptome_manifest_prep['filename'].isin(merged_df['transcriptome_filename'])]\n",
        "wsi_manifest = merged_cancer[merged_cancer['filename'].isin(merged_df['slide_filename'])]\n",
        "\n",
        "check_manifest = merged_df[merged_df['transcriptome_filename'].isin(transcriptome_manifest_prep['filename'])]\n",
        "\n",
        "transcriptome_manifest.to_csv('transcriptome_manifest_20230421.txt', sep='\\t', index=False)\n",
        "wsi_manifest.to_csv('wsi_manifest_20230421.txt', sep='\\t', index=False)"
      ],
      "metadata": {
        "id": "wsXtw0dr-aBA"
      },
      "execution_count": null,
      "outputs": []
    },
    {
      "cell_type": "code",
      "source": [
        "transcriptome_manifest['id'].count()"
      ],
      "metadata": {
        "colab": {
          "base_uri": "https://localhost:8080/"
        },
        "id": "CJMdM4OMIvvC",
        "outputId": "92eac252-1379-43e4-8f2f-fbb1baf6c665"
      },
      "execution_count": null,
      "outputs": [
        {
          "output_type": "execute_result",
          "data": {
            "text/plain": [
              "202"
            ]
          },
          "metadata": {},
          "execution_count": 64
        }
      ]
    },
    {
      "cell_type": "code",
      "source": [
        "print(len(transcriptome_manifest))"
      ],
      "metadata": {
        "colab": {
          "base_uri": "https://localhost:8080/"
        },
        "id": "dtOkw7zcDG9I",
        "outputId": "6a1a3206-a8d0-4875-a1bc-783db0d49582"
      },
      "execution_count": null,
      "outputs": [
        {
          "output_type": "stream",
          "name": "stdout",
          "text": [
            "202\n"
          ]
        }
      ]
    },
    {
      "cell_type": "code",
      "source": [
        "from google.colab import drive\n",
        "drive.mount('/content/drive')"
      ],
      "metadata": {
        "colab": {
          "base_uri": "https://localhost:8080/"
        },
        "id": "6kCoe_AEGiFI",
        "outputId": "0b1dadcc-c580-406c-e86b-f7e9ca1bca66"
      },
      "execution_count": null,
      "outputs": [
        {
          "output_type": "stream",
          "name": "stdout",
          "text": [
            "Mounted at /content/drive\n"
          ]
        }
      ]
    },
    {
      "cell_type": "code",
      "source": [
        "!pip install gdc-client"
      ],
      "metadata": {
        "colab": {
          "base_uri": "https://localhost:8080/"
        },
        "id": "ekje3ckbI1d9",
        "outputId": "4024e71d-b62a-4178-edb2-f06e15871c27"
      },
      "execution_count": null,
      "outputs": [
        {
          "output_type": "stream",
          "name": "stdout",
          "text": [
            "Looking in indexes: https://pypi.org/simple, https://us-python.pkg.dev/colab-wheels/public/simple/\n",
            "\u001b[31mERROR: Could not find a version that satisfies the requirement gdc-client (from versions: none)\u001b[0m\u001b[31m\n",
            "\u001b[0m\u001b[31mERROR: No matching distribution found for gdc-client\u001b[0m\u001b[31m\n",
            "\u001b[0m"
          ]
        }
      ]
    }
  ]
}