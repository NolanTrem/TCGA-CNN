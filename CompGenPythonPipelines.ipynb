{
  "nbformat": 4,
  "nbformat_minor": 0,
  "metadata": {
    "colab": {
      "provenance": [],
      "collapsed_sections": [
        "smHf5h3Is1KD",
        "XShtpJbghl2v",
        "_688KffciCf4"
      ],
      "machine_shape": "hm",
      "mount_file_id": "1ykHl1yMNu2biK2r8zB67eJCBMzGD3G2X",
      "authorship_tag": "ABX9TyMMfaZdGa/7Oia1XiWFSbei",
      "include_colab_link": true
    },
    "kernelspec": {
      "name": "python3",
      "display_name": "Python 3"
    },
    "language_info": {
      "name": "python"
    },
    "accelerator": "GPU",
    "gpuClass": "premium"
  },
  "cells": [
    {
      "cell_type": "markdown",
      "metadata": {
        "id": "view-in-github",
        "colab_type": "text"
      },
      "source": [
        "<a href=\"https://colab.research.google.com/github/NolanTrem/TCGA-CNN/blob/main/CompGenPythonPipelines.ipynb\" target=\"_parent\"><img src=\"https://colab.research.google.com/assets/colab-badge.svg\" alt=\"Open In Colab\"/></a>"
      ]
    },
    {
      "cell_type": "markdown",
      "source": [
        "# Trascriptome data "
      ],
      "metadata": {
        "id": "smHf5h3Is1KD"
      }
    },
    {
      "cell_type": "code",
      "source": [
        "#!unzip /content/drive/MyDrive/CompGenomics/transcriptome/transcriptome.zip"
      ],
      "metadata": {
        "id": "atvYuE4dgJ-1"
      },
      "execution_count": 1,
      "outputs": []
    },
    {
      "cell_type": "code",
      "source": [
        "import os\n",
        "import io\n",
        "import gzip\n",
        "import pandas as pd\n",
        "import numpy as np\n",
        "\n",
        "dfs = {}\n",
        "\n",
        "for filename in os.listdir():\n",
        "  if filename != 'sample_data' and filename != 'transcriptome.zip' and filename != '.config' and filename != 'drive' and filename != 'merged_df.txt':\n",
        "    for insidefile in os.listdir(filename):\n",
        "      if insidefile != 'logs':\n",
        "        filepath = os.path.join(filename, insidefile)\n",
        "        with gzip.open(filepath, 'rb') as f:\n",
        "            file_content = f.read().decode('utf-8')\n",
        "            # Extract the cell type from the file name\n",
        "            cell_type = insidefile[:-15]\n",
        "            # Read in the data from the file as a DataFrame\n",
        "            df = pd.read_csv(io.StringIO(file_content), sep='\\t', index_col=0, names=[cell_type])\n",
        "            # Add the DataFrame to the dictionary\n",
        "            dfs[cell_type] = df\n",
        "\n",
        "# Concatenate the DataFrames along the columns (axis=1)\n",
        "combined_df = pd.concat(dfs.values(), axis=1)"
      ],
      "metadata": {
        "id": "KntX47rji9W3"
      },
      "execution_count": 2,
      "outputs": []
    },
    {
      "cell_type": "markdown",
      "source": [
        "Remove outliers"
      ],
      "metadata": {
        "id": "dH-9jWVoxYIY"
      }
    },
    {
      "cell_type": "code",
      "source": [
        "merged_df = pd.read_csv('merged_df.txt', sep='\\t', header=0)"
      ],
      "metadata": {
        "id": "9iAqIulX1VXv"
      },
      "execution_count": 3,
      "outputs": []
    },
    {
      "cell_type": "code",
      "source": [
        "combined_df = combined_df.T\n",
        "\n",
        "gene_id = combined_df.columns\n",
        "cells = combined_df.index\n",
        "labels = []\n",
        "\n",
        "for cell in cells:\n",
        "  label = merged_df[merged_df['transcriptome_filename'] == (cell+'.FPKM-UQ.txt.gz')].tumor.values[0]\n",
        "  if label == 'Primary Tumor':\n",
        "    labels.append(1)\n",
        "  elif label == 'Solid Tissue Normal':\n",
        "    labels.append(0)\n",
        "  else:\n",
        "    labels.append(-1)\n",
        "\n",
        "combined_df['label'] = labels\n",
        "\n",
        "combined_df = combined_df.drop(combined_df[combined_df['label'] == -1].index)\n",
        "\n",
        "combined_df.head()"
      ],
      "metadata": {
        "colab": {
          "base_uri": "https://localhost:8080/",
          "height": 0
        },
        "id": "_rk1Vuqt2S7H",
        "outputId": "b13c3cb0-79cf-4457-db25-3ce27eacd79e"
      },
      "execution_count": 4,
      "outputs": [
        {
          "output_type": "execute_result",
          "data": {
            "text/plain": [
              "                                      ENSG00000242268.2  ENSG00000270112.3  \\\n",
              "5774022a-7bf2-4fdd-a4a5-f9aa33c2174d           0.000000           0.000000   \n",
              "378d4b61-b44c-4aed-86e9-be63913aaf66        1555.153520           0.000000   \n",
              "60cc2580-b21c-4526-ab37-e5dadb4fa9b7        1393.470892         145.011384   \n",
              "65393588-3484-4942-80d5-fb3a43cbc543         756.012187         262.247729   \n",
              "bd77428f-6994-415d-ad14-a6e7676b343a         666.880068        1758.102818   \n",
              "\n",
              "                                      ENSG00000167578.15  ENSG00000273842.1  \\\n",
              "5774022a-7bf2-4fdd-a4a5-f9aa33c2174d       112621.181642                0.0   \n",
              "378d4b61-b44c-4aed-86e9-be63913aaf66        77125.660324                0.0   \n",
              "60cc2580-b21c-4526-ab37-e5dadb4fa9b7        46427.498247                0.0   \n",
              "65393588-3484-4942-80d5-fb3a43cbc543        37016.177092                0.0   \n",
              "bd77428f-6994-415d-ad14-a6e7676b343a        51834.383972                0.0   \n",
              "\n",
              "                                      ENSG00000078237.5  ENSG00000146083.10  \\\n",
              "5774022a-7bf2-4fdd-a4a5-f9aa33c2174d       74324.692128       238739.544662   \n",
              "378d4b61-b44c-4aed-86e9-be63913aaf66       99470.493119       245802.179966   \n",
              "60cc2580-b21c-4526-ab37-e5dadb4fa9b7       85337.992040       188695.900693   \n",
              "65393588-3484-4942-80d5-fb3a43cbc543       73244.151255       278484.301888   \n",
              "bd77428f-6994-415d-ad14-a6e7676b343a       80976.403132       209387.380876   \n",
              "\n",
              "                                      ENSG00000225275.4  ENSG00000158486.12  \\\n",
              "5774022a-7bf2-4fdd-a4a5-f9aa33c2174d                0.0          329.053754   \n",
              "378d4b61-b44c-4aed-86e9-be63913aaf66                0.0         3567.358619   \n",
              "60cc2580-b21c-4526-ab37-e5dadb4fa9b7                0.0          760.540764   \n",
              "65393588-3484-4942-80d5-fb3a43cbc543                0.0          161.461159   \n",
              "bd77428f-6994-415d-ad14-a6e7676b343a                0.0          348.150624   \n",
              "\n",
              "                                      ENSG00000198242.12  ENSG00000259883.1  \\\n",
              "5774022a-7bf2-4fdd-a4a5-f9aa33c2174d        3.190455e+06        5472.644984   \n",
              "378d4b61-b44c-4aed-86e9-be63913aaf66        2.602698e+06        5251.080410   \n",
              "60cc2580-b21c-4526-ab37-e5dadb4fa9b7        2.861677e+06        9624.166667   \n",
              "65393588-3484-4942-80d5-fb3a43cbc543        3.387782e+06        2784.791973   \n",
              "bd77428f-6994-415d-ad14-a6e7676b343a        1.923951e+06        3684.706992   \n",
              "\n",
              "                                      ...  ENSG00000186115.11  \\\n",
              "5774022a-7bf2-4fdd-a4a5-f9aa33c2174d  ...            0.000000   \n",
              "378d4b61-b44c-4aed-86e9-be63913aaf66  ...          468.558879   \n",
              "60cc2580-b21c-4526-ab37-e5dadb4fa9b7  ...          629.767240   \n",
              "65393588-3484-4942-80d5-fb3a43cbc543  ...           85.418309   \n",
              "bd77428f-6994-415d-ad14-a6e7676b343a  ...         8137.549910   \n",
              "\n",
              "                                      ENSG00000216352.1  ENSG00000267117.1  \\\n",
              "5774022a-7bf2-4fdd-a4a5-f9aa33c2174d                0.0         797.318459   \n",
              "378d4b61-b44c-4aed-86e9-be63913aaf66                0.0         834.587301   \n",
              "60cc2580-b21c-4526-ab37-e5dadb4fa9b7                0.0        2243.456538   \n",
              "65393588-3484-4942-80d5-fb3a43cbc543                0.0        2434.324956   \n",
              "bd77428f-6994-415d-ad14-a6e7676b343a                0.0        1073.661788   \n",
              "\n",
              "                                      ENSG00000273233.1  ENSG00000105063.17  \\\n",
              "5774022a-7bf2-4fdd-a4a5-f9aa33c2174d           0.000000       303118.482953   \n",
              "378d4b61-b44c-4aed-86e9-be63913aaf66           0.000000       272950.743461   \n",
              "60cc2580-b21c-4526-ab37-e5dadb4fa9b7         580.612872       182753.612249   \n",
              "65393588-3484-4942-80d5-fb3a43cbc543        1260.020312       255175.071952   \n",
              "bd77428f-6994-415d-ad14-a6e7676b343a           0.000000       257780.601089   \n",
              "\n",
              "                                      ENSG00000231119.2  ENSG00000280861.1  \\\n",
              "5774022a-7bf2-4fdd-a4a5-f9aa33c2174d       29544.417310                0.0   \n",
              "378d4b61-b44c-4aed-86e9-be63913aaf66       20956.030383                0.0   \n",
              "60cc2580-b21c-4526-ab37-e5dadb4fa9b7        4785.482541                0.0   \n",
              "65393588-3484-4942-80d5-fb3a43cbc543        1780.327206                0.0   \n",
              "bd77428f-6994-415d-ad14-a6e7676b343a        3402.599796                0.0   \n",
              "\n",
              "                                      ENSG00000123685.7  ENSG00000181518.3  \\\n",
              "5774022a-7bf2-4fdd-a4a5-f9aa33c2174d       18922.280233                0.0   \n",
              "378d4b61-b44c-4aed-86e9-be63913aaf66       28624.837052                0.0   \n",
              "60cc2580-b21c-4526-ab37-e5dadb4fa9b7       11213.768246                0.0   \n",
              "65393588-3484-4942-80d5-fb3a43cbc543       20675.386734                0.0   \n",
              "bd77428f-6994-415d-ad14-a6e7676b343a       20419.361324                0.0   \n",
              "\n",
              "                                      label  \n",
              "5774022a-7bf2-4fdd-a4a5-f9aa33c2174d      0  \n",
              "378d4b61-b44c-4aed-86e9-be63913aaf66      0  \n",
              "60cc2580-b21c-4526-ab37-e5dadb4fa9b7      0  \n",
              "65393588-3484-4942-80d5-fb3a43cbc543      1  \n",
              "bd77428f-6994-415d-ad14-a6e7676b343a      0  \n",
              "\n",
              "[5 rows x 60484 columns]"
            ],
            "text/html": [
              "\n",
              "  <div id=\"df-74a78410-9ffd-4bcb-b775-d927a96e8dea\">\n",
              "    <div class=\"colab-df-container\">\n",
              "      <div>\n",
              "<style scoped>\n",
              "    .dataframe tbody tr th:only-of-type {\n",
              "        vertical-align: middle;\n",
              "    }\n",
              "\n",
              "    .dataframe tbody tr th {\n",
              "        vertical-align: top;\n",
              "    }\n",
              "\n",
              "    .dataframe thead th {\n",
              "        text-align: right;\n",
              "    }\n",
              "</style>\n",
              "<table border=\"1\" class=\"dataframe\">\n",
              "  <thead>\n",
              "    <tr style=\"text-align: right;\">\n",
              "      <th></th>\n",
              "      <th>ENSG00000242268.2</th>\n",
              "      <th>ENSG00000270112.3</th>\n",
              "      <th>ENSG00000167578.15</th>\n",
              "      <th>ENSG00000273842.1</th>\n",
              "      <th>ENSG00000078237.5</th>\n",
              "      <th>ENSG00000146083.10</th>\n",
              "      <th>ENSG00000225275.4</th>\n",
              "      <th>ENSG00000158486.12</th>\n",
              "      <th>ENSG00000198242.12</th>\n",
              "      <th>ENSG00000259883.1</th>\n",
              "      <th>...</th>\n",
              "      <th>ENSG00000186115.11</th>\n",
              "      <th>ENSG00000216352.1</th>\n",
              "      <th>ENSG00000267117.1</th>\n",
              "      <th>ENSG00000273233.1</th>\n",
              "      <th>ENSG00000105063.17</th>\n",
              "      <th>ENSG00000231119.2</th>\n",
              "      <th>ENSG00000280861.1</th>\n",
              "      <th>ENSG00000123685.7</th>\n",
              "      <th>ENSG00000181518.3</th>\n",
              "      <th>label</th>\n",
              "    </tr>\n",
              "  </thead>\n",
              "  <tbody>\n",
              "    <tr>\n",
              "      <th>5774022a-7bf2-4fdd-a4a5-f9aa33c2174d</th>\n",
              "      <td>0.000000</td>\n",
              "      <td>0.000000</td>\n",
              "      <td>112621.181642</td>\n",
              "      <td>0.0</td>\n",
              "      <td>74324.692128</td>\n",
              "      <td>238739.544662</td>\n",
              "      <td>0.0</td>\n",
              "      <td>329.053754</td>\n",
              "      <td>3.190455e+06</td>\n",
              "      <td>5472.644984</td>\n",
              "      <td>...</td>\n",
              "      <td>0.000000</td>\n",
              "      <td>0.0</td>\n",
              "      <td>797.318459</td>\n",
              "      <td>0.000000</td>\n",
              "      <td>303118.482953</td>\n",
              "      <td>29544.417310</td>\n",
              "      <td>0.0</td>\n",
              "      <td>18922.280233</td>\n",
              "      <td>0.0</td>\n",
              "      <td>0</td>\n",
              "    </tr>\n",
              "    <tr>\n",
              "      <th>378d4b61-b44c-4aed-86e9-be63913aaf66</th>\n",
              "      <td>1555.153520</td>\n",
              "      <td>0.000000</td>\n",
              "      <td>77125.660324</td>\n",
              "      <td>0.0</td>\n",
              "      <td>99470.493119</td>\n",
              "      <td>245802.179966</td>\n",
              "      <td>0.0</td>\n",
              "      <td>3567.358619</td>\n",
              "      <td>2.602698e+06</td>\n",
              "      <td>5251.080410</td>\n",
              "      <td>...</td>\n",
              "      <td>468.558879</td>\n",
              "      <td>0.0</td>\n",
              "      <td>834.587301</td>\n",
              "      <td>0.000000</td>\n",
              "      <td>272950.743461</td>\n",
              "      <td>20956.030383</td>\n",
              "      <td>0.0</td>\n",
              "      <td>28624.837052</td>\n",
              "      <td>0.0</td>\n",
              "      <td>0</td>\n",
              "    </tr>\n",
              "    <tr>\n",
              "      <th>60cc2580-b21c-4526-ab37-e5dadb4fa9b7</th>\n",
              "      <td>1393.470892</td>\n",
              "      <td>145.011384</td>\n",
              "      <td>46427.498247</td>\n",
              "      <td>0.0</td>\n",
              "      <td>85337.992040</td>\n",
              "      <td>188695.900693</td>\n",
              "      <td>0.0</td>\n",
              "      <td>760.540764</td>\n",
              "      <td>2.861677e+06</td>\n",
              "      <td>9624.166667</td>\n",
              "      <td>...</td>\n",
              "      <td>629.767240</td>\n",
              "      <td>0.0</td>\n",
              "      <td>2243.456538</td>\n",
              "      <td>580.612872</td>\n",
              "      <td>182753.612249</td>\n",
              "      <td>4785.482541</td>\n",
              "      <td>0.0</td>\n",
              "      <td>11213.768246</td>\n",
              "      <td>0.0</td>\n",
              "      <td>0</td>\n",
              "    </tr>\n",
              "    <tr>\n",
              "      <th>65393588-3484-4942-80d5-fb3a43cbc543</th>\n",
              "      <td>756.012187</td>\n",
              "      <td>262.247729</td>\n",
              "      <td>37016.177092</td>\n",
              "      <td>0.0</td>\n",
              "      <td>73244.151255</td>\n",
              "      <td>278484.301888</td>\n",
              "      <td>0.0</td>\n",
              "      <td>161.461159</td>\n",
              "      <td>3.387782e+06</td>\n",
              "      <td>2784.791973</td>\n",
              "      <td>...</td>\n",
              "      <td>85.418309</td>\n",
              "      <td>0.0</td>\n",
              "      <td>2434.324956</td>\n",
              "      <td>1260.020312</td>\n",
              "      <td>255175.071952</td>\n",
              "      <td>1780.327206</td>\n",
              "      <td>0.0</td>\n",
              "      <td>20675.386734</td>\n",
              "      <td>0.0</td>\n",
              "      <td>1</td>\n",
              "    </tr>\n",
              "    <tr>\n",
              "      <th>bd77428f-6994-415d-ad14-a6e7676b343a</th>\n",
              "      <td>666.880068</td>\n",
              "      <td>1758.102818</td>\n",
              "      <td>51834.383972</td>\n",
              "      <td>0.0</td>\n",
              "      <td>80976.403132</td>\n",
              "      <td>209387.380876</td>\n",
              "      <td>0.0</td>\n",
              "      <td>348.150624</td>\n",
              "      <td>1.923951e+06</td>\n",
              "      <td>3684.706992</td>\n",
              "      <td>...</td>\n",
              "      <td>8137.549910</td>\n",
              "      <td>0.0</td>\n",
              "      <td>1073.661788</td>\n",
              "      <td>0.000000</td>\n",
              "      <td>257780.601089</td>\n",
              "      <td>3402.599796</td>\n",
              "      <td>0.0</td>\n",
              "      <td>20419.361324</td>\n",
              "      <td>0.0</td>\n",
              "      <td>0</td>\n",
              "    </tr>\n",
              "  </tbody>\n",
              "</table>\n",
              "<p>5 rows × 60484 columns</p>\n",
              "</div>\n",
              "      <button class=\"colab-df-convert\" onclick=\"convertToInteractive('df-74a78410-9ffd-4bcb-b775-d927a96e8dea')\"\n",
              "              title=\"Convert this dataframe to an interactive table.\"\n",
              "              style=\"display:none;\">\n",
              "        \n",
              "  <svg xmlns=\"http://www.w3.org/2000/svg\" height=\"24px\"viewBox=\"0 0 24 24\"\n",
              "       width=\"24px\">\n",
              "    <path d=\"M0 0h24v24H0V0z\" fill=\"none\"/>\n",
              "    <path d=\"M18.56 5.44l.94 2.06.94-2.06 2.06-.94-2.06-.94-.94-2.06-.94 2.06-2.06.94zm-11 1L8.5 8.5l.94-2.06 2.06-.94-2.06-.94L8.5 2.5l-.94 2.06-2.06.94zm10 10l.94 2.06.94-2.06 2.06-.94-2.06-.94-.94-2.06-.94 2.06-2.06.94z\"/><path d=\"M17.41 7.96l-1.37-1.37c-.4-.4-.92-.59-1.43-.59-.52 0-1.04.2-1.43.59L10.3 9.45l-7.72 7.72c-.78.78-.78 2.05 0 2.83L4 21.41c.39.39.9.59 1.41.59.51 0 1.02-.2 1.41-.59l7.78-7.78 2.81-2.81c.8-.78.8-2.07 0-2.86zM5.41 20L4 18.59l7.72-7.72 1.47 1.35L5.41 20z\"/>\n",
              "  </svg>\n",
              "      </button>\n",
              "      \n",
              "  <style>\n",
              "    .colab-df-container {\n",
              "      display:flex;\n",
              "      flex-wrap:wrap;\n",
              "      gap: 12px;\n",
              "    }\n",
              "\n",
              "    .colab-df-convert {\n",
              "      background-color: #E8F0FE;\n",
              "      border: none;\n",
              "      border-radius: 50%;\n",
              "      cursor: pointer;\n",
              "      display: none;\n",
              "      fill: #1967D2;\n",
              "      height: 32px;\n",
              "      padding: 0 0 0 0;\n",
              "      width: 32px;\n",
              "    }\n",
              "\n",
              "    .colab-df-convert:hover {\n",
              "      background-color: #E2EBFA;\n",
              "      box-shadow: 0px 1px 2px rgba(60, 64, 67, 0.3), 0px 1px 3px 1px rgba(60, 64, 67, 0.15);\n",
              "      fill: #174EA6;\n",
              "    }\n",
              "\n",
              "    [theme=dark] .colab-df-convert {\n",
              "      background-color: #3B4455;\n",
              "      fill: #D2E3FC;\n",
              "    }\n",
              "\n",
              "    [theme=dark] .colab-df-convert:hover {\n",
              "      background-color: #434B5C;\n",
              "      box-shadow: 0px 1px 3px 1px rgba(0, 0, 0, 0.15);\n",
              "      filter: drop-shadow(0px 1px 2px rgba(0, 0, 0, 0.3));\n",
              "      fill: #FFFFFF;\n",
              "    }\n",
              "  </style>\n",
              "\n",
              "      <script>\n",
              "        const buttonEl =\n",
              "          document.querySelector('#df-74a78410-9ffd-4bcb-b775-d927a96e8dea button.colab-df-convert');\n",
              "        buttonEl.style.display =\n",
              "          google.colab.kernel.accessAllowed ? 'block' : 'none';\n",
              "\n",
              "        async function convertToInteractive(key) {\n",
              "          const element = document.querySelector('#df-74a78410-9ffd-4bcb-b775-d927a96e8dea');\n",
              "          const dataTable =\n",
              "            await google.colab.kernel.invokeFunction('convertToInteractive',\n",
              "                                                     [key], {});\n",
              "          if (!dataTable) return;\n",
              "\n",
              "          const docLinkHtml = 'Like what you see? Visit the ' +\n",
              "            '<a target=\"_blank\" href=https://colab.research.google.com/notebooks/data_table.ipynb>data table notebook</a>'\n",
              "            + ' to learn more about interactive tables.';\n",
              "          element.innerHTML = '';\n",
              "          dataTable['output_type'] = 'display_data';\n",
              "          await google.colab.output.renderOutput(dataTable, element);\n",
              "          const docLink = document.createElement('div');\n",
              "          docLink.innerHTML = docLinkHtml;\n",
              "          element.appendChild(docLink);\n",
              "        }\n",
              "      </script>\n",
              "    </div>\n",
              "  </div>\n",
              "  "
            ]
          },
          "metadata": {},
          "execution_count": 4
        }
      ]
    },
    {
      "cell_type": "code",
      "source": [
        "from sklearn.model_selection import train_test_split\n",
        "\n",
        "X = combined_df.drop('label', axis=1)\n",
        "y = combined_df['label']\n",
        "\n",
        "# Normalize expression\n",
        "# total_fragments = X.sum(axis=0)\n",
        "# scaling_factor = total_fragments / 1e6\n",
        "# X_norm = X.div(scaling_factor+0.0001, axis=1)\n",
        "# X_norm = np.log2(X_norm + 1)\n",
        "\n",
        "X_dev, X_test, y_dev, y_test = train_test_split(X, y, stratify=y, test_size=0.2, shuffle=True, random_state=42)\n",
        "\n",
        "#X_dev_stand = ss.fit_transform(X_dev)\n",
        "#X_test_stand = ss.transform(X_test)"
      ],
      "metadata": {
        "id": "C0PQYEHfqFkw"
      },
      "execution_count": 5,
      "outputs": []
    },
    {
      "cell_type": "code",
      "source": [
        "y.value_counts()"
      ],
      "metadata": {
        "colab": {
          "base_uri": "https://localhost:8080/"
        },
        "id": "FdCsHintRAIo",
        "outputId": "5264bca2-4feb-4772-9cbf-df1f39feb024"
      },
      "execution_count": 61,
      "outputs": [
        {
          "output_type": "execute_result",
          "data": {
            "text/plain": [
              "0    133\n",
              "1    109\n",
              "Name: label, dtype: int64"
            ]
          },
          "metadata": {},
          "execution_count": 61
        }
      ]
    },
    {
      "cell_type": "markdown",
      "source": [
        "# Simple feed forward neural network"
      ],
      "metadata": {
        "id": "XShtpJbghl2v"
      }
    },
    {
      "cell_type": "code",
      "source": [
        "from sklearn.preprocessing import MinMaxScaler, Normalizer, StandardScaler\n",
        "\n",
        "fpkm_scaler = Normalizer(norm='l2').fit(X_dev)\n",
        "X_dev_fpkm = fpkm_scaler.transform(X_dev)\n",
        "X_test_fpkm = fpkm_scaler.transform(X_test)"
      ],
      "metadata": {
        "id": "Lz_RZXqTUrDO"
      },
      "execution_count": 43,
      "outputs": []
    },
    {
      "cell_type": "code",
      "source": [
        "from keras.models import Sequential\n",
        "from keras.layers import Dense, Dropout\n",
        "from keras import regularizers\n",
        "from imblearn.over_sampling import SMOTE\n",
        "\n",
        "# Define output shape\n",
        "num_classes = 2\n",
        "\n",
        "# Define input shape\n",
        "input_shape = (X_dev_fpkm.shape[1],)\n",
        "\n",
        "# Define the model\n",
        "ffnn = Sequential()\n",
        "\n",
        "# Add first hidden layer with 64 neurons and ReLU activation\n",
        "#ffnn.add(Dense(128, activation='relu', input_shape=input_shape, kernel_regularizer=regularizers.l2(0.01)))\n",
        "\n",
        "# Add second hidden layer with 32 neurons and ReLU activation\n",
        "#ffnn.add(Dense(32, activation='relu', kernel_regularizer=regularizers.l2(0.01)))\n",
        "\n",
        "# Add output layer with 10 neurons and softmax activation\n",
        "#ffnn.add(Dense(1, activation='sigmoid'))\n",
        "smote = SMOTE(random_state=42)\n",
        "X_dev_smote, y_dev_smote = smote.fit_resample(X_dev_fpkm, y_dev)\n",
        "ffnn.add(Dense(7000, activation='relu', input_shape=input_shape))\n",
        "ffnn.add(Dropout(0.2))\n",
        "ffnn.add(Dense(7000, activation='relu', kernel_regularizer=regularizers.l2(0.01)))\n",
        "ffnn.add(Dense(1, activation='sigmoid'))\n",
        "\n",
        "ffnn.summary()"
      ],
      "metadata": {
        "colab": {
          "base_uri": "https://localhost:8080/"
        },
        "id": "HWppvyoRPpBm",
        "outputId": "48272ea8-f9d4-429f-c857-11e1e3ce4068"
      },
      "execution_count": 57,
      "outputs": [
        {
          "output_type": "stream",
          "name": "stdout",
          "text": [
            "Model: \"sequential_10\"\n",
            "_________________________________________________________________\n",
            " Layer (type)                Output Shape              Param #   \n",
            "=================================================================\n",
            " dense_27 (Dense)            (None, 7000)              423388000 \n",
            "                                                                 \n",
            " dropout_13 (Dropout)        (None, 7000)              0         \n",
            "                                                                 \n",
            " dense_28 (Dense)            (None, 7000)              49007000  \n",
            "                                                                 \n",
            " dense_29 (Dense)            (None, 1)                 7001      \n",
            "                                                                 \n",
            "=================================================================\n",
            "Total params: 472,402,001\n",
            "Trainable params: 472,402,001\n",
            "Non-trainable params: 0\n",
            "_________________________________________________________________\n"
          ]
        }
      ]
    },
    {
      "cell_type": "code",
      "source": [
        "from keras.optimizers import Adam\n",
        "\n",
        "# Compile the model with categorical cross-entropy loss and Adam optimizer\n",
        "ffnn.compile(loss='binary_crossentropy', optimizer=Adam(), metrics=['accuracy'])\n",
        "history_ffnn = ffnn.fit(X_dev_smote, y_dev_smote, batch_size=32, epochs=15, validation_split=0.2)"
      ],
      "metadata": {
        "colab": {
          "base_uri": "https://localhost:8080/"
        },
        "id": "d37M5tHXQIeN",
        "outputId": "7ce7f64b-6744-4431-a251-8115424fe3b5"
      },
      "execution_count": 58,
      "outputs": [
        {
          "output_type": "stream",
          "name": "stdout",
          "text": [
            "Epoch 1/15\n",
            "6/6 [==============================] - 1s 62ms/step - loss: 52.2030 - accuracy: 0.6036 - val_loss: 26.2944 - val_accuracy: 0.8605\n",
            "Epoch 2/15\n",
            "6/6 [==============================] - 0s 29ms/step - loss: 17.8876 - accuracy: 0.8047 - val_loss: 7.2279 - val_accuracy: 0.9070\n",
            "Epoch 3/15\n",
            "6/6 [==============================] - 0s 28ms/step - loss: 4.5559 - accuracy: 0.9172 - val_loss: 1.9041 - val_accuracy: 0.9302\n",
            "Epoch 4/15\n",
            "6/6 [==============================] - 0s 28ms/step - loss: 1.5065 - accuracy: 0.9941 - val_loss: 1.4314 - val_accuracy: 0.9767\n",
            "Epoch 5/15\n",
            "6/6 [==============================] - 0s 27ms/step - loss: 1.4362 - accuracy: 1.0000 - val_loss: 1.4640 - val_accuracy: 0.9767\n",
            "Epoch 6/15\n",
            "6/6 [==============================] - 0s 28ms/step - loss: 1.2918 - accuracy: 1.0000 - val_loss: 1.0859 - val_accuracy: 0.9535\n",
            "Epoch 7/15\n",
            "6/6 [==============================] - 0s 29ms/step - loss: 0.7760 - accuracy: 1.0000 - val_loss: 0.6930 - val_accuracy: 0.9302\n",
            "Epoch 8/15\n",
            "6/6 [==============================] - 0s 28ms/step - loss: 0.3609 - accuracy: 0.9941 - val_loss: 0.2812 - val_accuracy: 0.9767\n",
            "Epoch 9/15\n",
            "6/6 [==============================] - 0s 28ms/step - loss: 0.1629 - accuracy: 1.0000 - val_loss: 0.1664 - val_accuracy: 0.9767\n",
            "Epoch 10/15\n",
            "6/6 [==============================] - 0s 27ms/step - loss: 0.1314 - accuracy: 1.0000 - val_loss: 0.2730 - val_accuracy: 0.9535\n",
            "Epoch 11/15\n",
            "6/6 [==============================] - 0s 27ms/step - loss: 0.1031 - accuracy: 1.0000 - val_loss: 0.1340 - val_accuracy: 0.9767\n",
            "Epoch 12/15\n",
            "6/6 [==============================] - 0s 27ms/step - loss: 0.0694 - accuracy: 1.0000 - val_loss: 0.1135 - val_accuracy: 0.9767\n",
            "Epoch 13/15\n",
            "6/6 [==============================] - 0s 28ms/step - loss: 0.0493 - accuracy: 1.0000 - val_loss: 0.1074 - val_accuracy: 0.9767\n",
            "Epoch 14/15\n",
            "6/6 [==============================] - 0s 27ms/step - loss: 0.0387 - accuracy: 1.0000 - val_loss: 0.1577 - val_accuracy: 0.9767\n",
            "Epoch 15/15\n",
            "6/6 [==============================] - 0s 28ms/step - loss: 0.0335 - accuracy: 1.0000 - val_loss: 0.1085 - val_accuracy: 0.9767\n"
          ]
        }
      ]
    },
    {
      "cell_type": "code",
      "source": [
        "import matplotlib.pyplot as plt\n",
        "# a. train vs validation loss over each epoch\n",
        "plt.plot(history_ffnn.history['loss'], label='Train Loss')\n",
        "plt.plot(history_ffnn.history['val_loss'], label='Val Loss')\n",
        "plt.title('Train vs. Validation Loss')\n",
        "plt.xlabel('Epoch')\n",
        "plt.ylabel('Loss')\n",
        "plt.legend()\n",
        "plt.show()\n",
        "\n",
        "# b. train vs validation accuracy over each epoch\n",
        "plt.plot(history_ffnn.history['accuracy'], label='Train Accuracy')\n",
        "plt.plot(history_ffnn.history['val_accuracy'], label='Val Accuracy')\n",
        "plt.title('Train vs. Validation Accuracy')\n",
        "plt.xlabel('Epoch')\n",
        "plt.ylabel('Accuracy')\n",
        "plt.legend()\n",
        "plt.show()"
      ],
      "metadata": {
        "colab": {
          "base_uri": "https://localhost:8080/",
          "height": 0
        },
        "id": "1EnyruB7p5er",
        "outputId": "9f6f8ec8-1782-403e-93ad-b361da9b9f03"
      },
      "execution_count": 59,
      "outputs": [
        {
          "output_type": "display_data",
          "data": {
            "text/plain": [
              "<Figure size 640x480 with 1 Axes>"
            ],
            "image/png": "[encoded data removed]"
          },
          "metadata": {}
        },
        {
          "output_type": "display_data",
          "data": {
            "text/plain": [
              "<Figure size 640x480 with 1 Axes>"
            ],
            "image/png": "[encoded data removed]"
          },
          "metadata": {}
        }
      ]
    },
    {
      "cell_type": "code",
      "source": [
        "test_loss, test_accuracy = ffnn.evaluate(X_test_fpkm, y_test)\n",
        "print(\"\\n=====Results=====\")\n",
        "print(\"Test Loss: \", test_loss)\n",
        "print(\"Test Accuracy: \", test_accuracy)\n",
        "#0.9795918367346939\n",
        "#Test Loss:  84987.5625\n",
        "#Test Accuracy:  0.9795918464660645"
      ],
      "metadata": {
        "colab": {
          "base_uri": "https://localhost:8080/"
        },
        "id": "HaSYiyRYQRoR",
        "outputId": "c6f9f0a5-9f89-4445-eb58-3da61ec864c8"
      },
      "execution_count": 60,
      "outputs": [
        {
          "output_type": "stream",
          "name": "stdout",
          "text": [
            "2/2 [==============================] - 0s 8ms/step - loss: 0.1449 - accuracy: 0.9796\n",
            "\n",
            "=====Results=====\n",
            "Test Loss:  0.14485248923301697\n",
            "Test Accuracy:  0.9795918464660645\n"
          ]
        }
      ]
    },
    {
      "cell_type": "code",
      "source": [
        "print(\"Train loss: \", history_ffnn.history['loss'])\n",
        "print(\"Val loss: \", history_ffnn.history['val_loss'])\n",
        "print(\"Train acc: \", history_ffnn.history['accuracy'])\n",
        "print(\"Val acc: \", history_ffnn.history['val_accuracy'])"
      ],
      "metadata": {
        "colab": {
          "base_uri": "https://localhost:8080/"
        },
        "id": "QFi_Gqi6qJMq",
        "outputId": "1485209f-6e62-4751-97c5-5ffa16c34052"
      },
      "execution_count": 62,
      "outputs": [
        {
          "output_type": "stream",
          "name": "stdout",
          "text": [
            "Train loss:  [52.20301055908203, 17.887584686279297, 4.555914878845215, 1.506476640701294, 1.436240792274475, 1.2918148040771484, 0.7760427594184875, 0.36085715889930725, 0.16292867064476013, 0.13141973316669464, 0.10311446338891983, 0.0694306343793869, 0.049300666898489, 0.03867410123348236, 0.03349124640226364]\n",
            "Val loss:  [26.294435501098633, 7.227936267852783, 1.9040664434432983, 1.4313799142837524, 1.4640474319458008, 1.0858725309371948, 0.6930065155029297, 0.28122276067733765, 0.16639383137226105, 0.2730400562286377, 0.13395017385482788, 0.11348406225442886, 0.10739006847143173, 0.15769563615322113, 0.10851164907217026]\n",
            "Train acc:  [0.6035503149032593, 0.8047337532043457, 0.9171597361564636, 0.9940828680992126, 1.0, 1.0, 1.0, 0.9940828680992126, 1.0, 1.0, 1.0, 1.0, 1.0, 1.0, 1.0]\n",
            "Val acc:  [0.8604651093482971, 0.9069767594337463, 0.930232584476471, 0.9767441749572754, 0.9767441749572754, 0.9534883499145508, 0.930232584476471, 0.9767441749572754, 0.9767441749572754, 0.9534883499145508, 0.9767441749572754, 0.9767441749572754, 0.9767441749572754, 0.9767441749572754, 0.9767441749572754]\n"
          ]
        }
      ]
    },
    {
      "cell_type": "code",
      "source": [
        "from sklearn.metrics import confusion_matrix\n",
        "y_pred = ffnn.predict(X_test)\n",
        "confusion_matrix(y_test, y_pred)"
      ],
      "metadata": {
        "colab": {
          "base_uri": "https://localhost:8080/"
        },
        "id": "6Y5ruKwWTJ7-",
        "outputId": "dca771d9-1073-4fec-fa52-e1596e4ac954"
      },
      "execution_count": 35,
      "outputs": [
        {
          "output_type": "stream",
          "name": "stdout",
          "text": [
            "2/2 [==============================] - 0s 5ms/step\n"
          ]
        },
        {
          "output_type": "execute_result",
          "data": {
            "text/plain": [
              "array([[26,  1],\n",
              "       [ 0, 22]])"
            ]
          },
          "metadata": {},
          "execution_count": 35
        }
      ]
    },
    {
      "cell_type": "markdown",
      "source": [
        "# SCOPE"
      ],
      "metadata": {
        "id": "_688KffciCf4"
      }
    },
    {
      "cell_type": "code",
      "source": [
        "!pip install scikeras"
      ],
      "metadata": {
        "colab": {
          "base_uri": "https://localhost:8080/"
        },
        "id": "Si4PXJUendIx",
        "outputId": "d6b02089-5f5b-4190-bb0a-355d348e05f3"
      },
      "execution_count": 5,
      "outputs": [
        {
          "output_type": "stream",
          "name": "stdout",
          "text": [
            "Looking in indexes: https://pypi.org/simple, https://us-python.pkg.dev/colab-wheels/public/simple/\n",
            "Requirement already satisfied: scikeras in /usr/local/lib/python3.9/dist-packages (0.10.0)\n",
            "Requirement already satisfied: packaging>=0.21 in /usr/local/lib/python3.9/dist-packages (from scikeras) (23.1)\n",
            "Requirement already satisfied: scikit-learn>=1.0.0 in /usr/local/lib/python3.9/dist-packages (from scikeras) (1.2.2)\n",
            "Requirement already satisfied: numpy>=1.17.3 in /usr/local/lib/python3.9/dist-packages (from scikit-learn>=1.0.0->scikeras) (1.22.4)\n",
            "Requirement already satisfied: scipy>=1.3.2 in /usr/local/lib/python3.9/dist-packages (from scikit-learn>=1.0.0->scikeras) (1.10.1)\n",
            "Requirement already satisfied: joblib>=1.1.1 in /usr/local/lib/python3.9/dist-packages (from scikit-learn>=1.0.0->scikeras) (1.2.0)\n",
            "Requirement already satisfied: threadpoolctl>=2.0.0 in /usr/local/lib/python3.9/dist-packages (from scikit-learn>=1.0.0->scikeras) (3.1.0)\n"
          ]
        }
      ]
    },
    {
      "cell_type": "code",
      "source": [
        "from keras.models import Sequential\n",
        "from keras.layers import Dense, Dropout\n",
        "from keras.regularizers import l2\n",
        "from imblearn.over_sampling import SMOTE\n",
        "from sklearn.preprocessing import MinMaxScaler, Normalizer\n",
        "from sklearn.ensemble import VotingClassifier"
      ],
      "metadata": {
        "id": "iJ3WxgZIp9aW"
      },
      "execution_count": 6,
      "outputs": []
    },
    {
      "cell_type": "code",
      "source": [
        "# Preprocess data\n",
        "fpkm_scaler = Normalizer().fit(X_dev)\n",
        "X_train_rpkm = fpkm_scaler.transform(X_dev)\n",
        "X_test_rpkm = fpkm_scaler.transform(X_test)"
      ],
      "metadata": {
        "id": "N6f6rGgNp0fx"
      },
      "execution_count": 7,
      "outputs": []
    },
    {
      "cell_type": "code",
      "source": [
        "import scikeras\n",
        "from sklearn.ensemble import VotingClassifier\n",
        "from sklearn.model_selection import cross_val_score\n",
        "from scikeras.wrappers import KerasClassifier\n",
        "\n",
        "# Define models\n",
        "def create_model_None17k():\n",
        "    nn = Sequential()\n",
        "    nn.add(Dense(7000, activation='relu', input_shape=(X_dev.shape[1],)))\n",
        "    nn.add(Dense(1, activation='sigmoid'))\n",
        "    nn.compile(optimizer='adam', loss='binary_crossentropy', metrics=['accuracy'])\n",
        "    return nn\n",
        "\n",
        "def create_model_None17kDropout():\n",
        "    nn = Sequential()\n",
        "    nn.add(Dense(7000, activation='relu', input_shape=(X_dev.shape[1],)))\n",
        "    nn.add(Dropout(0.1))\n",
        "    nn.add(Dense(7000, activation='relu'))\n",
        "    nn.add(Dense(1, activation='sigmoid'))\n",
        "    nn.compile(optimizer='adam', loss='binary_crossentropy', metrics=['accuracy'])\n",
        "    return nn\n",
        "\n",
        "def create_model_SmoteNone17k():\n",
        "    smote = SMOTE(random_state=42)\n",
        "    X_train_smote, y_train_smote = smote.fit_resample(X_dev, y_dev)\n",
        "    nn = Sequential()\n",
        "    nn.add(Dense(7000, activation='relu', input_shape=(X_train_smote.shape[1],)))\n",
        "    nn.add(Dense(1, activation='sigmoid'))\n",
        "    nn.compile(optimizer='adam', loss='binary_crossentropy', metrics=['accuracy'])\n",
        "    return nn\n",
        "\n",
        "def create_model_Rm500():\n",
        "    rank_scaler = Normalizer().fit(X_dev)\n",
        "    X_train_rank = rank_scaler.transform(X_dev)\n",
        "    X_test_rank = rank_scaler.transform(X_test)\n",
        "    minmax_scaler = MinMaxScaler(feature_range=(0, 1)).fit(X_train_rank)\n",
        "    X_train_scaled = minmax_scaler.transform(X_train_rank)\n",
        "    X_test_scaled = minmax_scaler.transform(X_test_rank)\n",
        "    nn = Sequential()\n",
        "    nn.add(Dense(500, activation='relu', input_shape=(X_train_scaled.shape[1],)))\n",
        "    nn.add(Dense(1, activation='sigmoid'))\n",
        "    nn.compile(optimizer='adam', loss='binary_crossentropy', metrics=['accuracy'])\n",
        "    return nn\n",
        "\n",
        "def create_model_Rm500Dropout():\n",
        "    rank_scaler = Normalizer().fit(X_dev)\n",
        "    X_train_rank = rank_scaler.transform(X_dev)\n",
        "    X_test_rank = rank_scaler.transform(X_test)\n",
        "    minmax_scaler = MinMaxScaler(feature_range=(0, 1)).fit(X_train_rank)\n",
        "    X_train_scaled = minmax_scaler.transform(X_train_rank)\n",
        "    X_test_scaled = minmax_scaler.transform(X_test_rank)\n",
        "    nn = Sequential()\n",
        "    nn.add(Dense(500, activation='relu', input_shape=(X_train_scaled.shape[1],)))\n",
        "    nn.add(Dropout(0.1))\n",
        "    nn.add(Dense(500, activation='relu'))\n",
        "    nn.add(Dense(1, activation='sigmoid'))\n",
        "    nn.compile(optimizer='adam', loss='binary_crossentropy', metrics=['accuracy'])\n",
        "    return nn\n",
        "\n",
        "# Wrap models into a voting classifier\n",
        "estimators = [\n",
        "    ('None17k', KerasClassifier(build_fn=create_model_None17k, epochs=10, batch_size=32, verbose=1)),\n",
        "    ('None17kDropout', KerasClassifier(build_fn=create_model_None17kDropout, epochs=10, batch_size=32, verbose=1)),\n",
        "    ('SmoteNone17k', KerasClassifier(build_fn=create_model_SmoteNone17k, epochs=10, batch_size=32, verbose=1)),\n",
        "    ('Rm500', KerasClassifier(build_fn=create_model_Rm500, epochs=10, batch_size=32, verbose=1)),\n",
        "    ('Rm500Dropout', KerasClassifier(build_fn=create_model_Rm500Dropout, epochs=10, batch_size=32, verbose=1))\n",
        "]\n",
        "ensemble = VotingClassifier(estimators)\n",
        "\n",
        "# Fit and evaluate the ensemble classifier on the data\n",
        "history_ensemble = ensemble.fit(X_dev, y_dev)\n",
        "\n",
        "# Evaluate the ensemble classifier on the test data\n",
        "print(\"accuracy: \", ensemble.score(X_test, y_test))"
      ],
      "metadata": {
        "colab": {
          "base_uri": "https://localhost:8080/"
        },
        "id": "IEMJvHTKlTa4",
        "outputId": "be64922c-5973-4f62-bd7b-12cbca10e007"
      },
      "execution_count": 8,
      "outputs": [
        {
          "output_type": "stream",
          "name": "stderr",
          "text": [
            "/usr/local/lib/python3.9/dist-packages/scikeras/wrappers.py:301: UserWarning: ``build_fn`` will be renamed to ``model`` in a future release, at which point use of ``build_fn`` will raise an Error instead.\n",
            "  warnings.warn(\n"
          ]
        },
        {
          "output_type": "stream",
          "name": "stdout",
          "text": [
            "Epoch 1/10\n",
            "4/4 [==============================] - 3s 21ms/step - loss: 0.6488 - accuracy: 0.6166\n",
            "Epoch 2/10\n",
            "4/4 [==============================] - 0s 19ms/step - loss: 0.5320 - accuracy: 0.7150\n",
            "Epoch 3/10\n",
            "4/4 [==============================] - 0s 19ms/step - loss: 0.4169 - accuracy: 0.8705\n",
            "Epoch 4/10\n",
            "4/4 [==============================] - 0s 19ms/step - loss: 0.3569 - accuracy: 0.9223\n",
            "Epoch 5/10\n",
            "4/4 [==============================] - 0s 19ms/step - loss: 0.2645 - accuracy: 0.9482\n",
            "Epoch 6/10\n",
            "4/4 [==============================] - 0s 19ms/step - loss: 0.1979 - accuracy: 0.9326\n",
            "Epoch 7/10\n",
            "4/4 [==============================] - 0s 19ms/step - loss: 0.1631 - accuracy: 0.9430\n",
            "Epoch 8/10\n",
            "4/4 [==============================] - 0s 19ms/step - loss: 0.1350 - accuracy: 0.9482\n",
            "Epoch 9/10\n",
            "4/4 [==============================] - 0s 19ms/step - loss: 0.1048 - accuracy: 0.9793\n",
            "Epoch 10/10\n",
            "4/4 [==============================] - 0s 19ms/step - loss: 0.0832 - accuracy: 0.9793\n"
          ]
        },
        {
          "output_type": "stream",
          "name": "stderr",
          "text": [
            "/usr/local/lib/python3.9/dist-packages/scikeras/wrappers.py:301: UserWarning: ``build_fn`` will be renamed to ``model`` in a future release, at which point use of ``build_fn`` will raise an Error instead.\n",
            "  warnings.warn(\n"
          ]
        },
        {
          "output_type": "stream",
          "name": "stdout",
          "text": [
            "Epoch 1/10\n",
            "4/4 [==============================] - 2s 22ms/step - loss: 0.6953 - accuracy: 0.4508\n",
            "Epoch 2/10\n",
            "4/4 [==============================] - 0s 21ms/step - loss: 0.6138 - accuracy: 0.5959\n",
            "Epoch 3/10\n",
            "4/4 [==============================] - 0s 21ms/step - loss: 0.3163 - accuracy: 0.8912\n",
            "Epoch 4/10\n",
            "4/4 [==============================] - 0s 21ms/step - loss: 0.1332 - accuracy: 0.9223\n",
            "Epoch 5/10\n",
            "4/4 [==============================] - 0s 21ms/step - loss: 0.0514 - accuracy: 0.9948\n",
            "Epoch 6/10\n",
            "4/4 [==============================] - 0s 21ms/step - loss: 0.1078 - accuracy: 0.9585\n",
            "Epoch 7/10\n",
            "4/4 [==============================] - 0s 21ms/step - loss: 0.0181 - accuracy: 0.9896\n",
            "Epoch 8/10\n",
            "4/4 [==============================] - 0s 21ms/step - loss: 0.1026 - accuracy: 0.9741\n",
            "Epoch 9/10\n",
            "4/4 [==============================] - 0s 21ms/step - loss: 0.0237 - accuracy: 0.9845\n",
            "Epoch 10/10\n",
            "4/4 [==============================] - 0s 20ms/step - loss: 0.0203 - accuracy: 0.9896\n"
          ]
        },
        {
          "output_type": "stream",
          "name": "stderr",
          "text": [
            "/usr/local/lib/python3.9/dist-packages/scikeras/wrappers.py:301: UserWarning: ``build_fn`` will be renamed to ``model`` in a future release, at which point use of ``build_fn`` will raise an Error instead.\n",
            "  warnings.warn(\n"
          ]
        },
        {
          "output_type": "stream",
          "name": "stdout",
          "text": [
            "Epoch 1/10\n",
            "4/4 [==============================] - 1s 20ms/step - loss: 0.6463 - accuracy: 0.5855\n",
            "Epoch 2/10\n",
            "4/4 [==============================] - 0s 20ms/step - loss: 0.5311 - accuracy: 0.7047\n",
            "Epoch 3/10\n",
            "4/4 [==============================] - 0s 19ms/step - loss: 0.4432 - accuracy: 0.7513\n",
            "Epoch 4/10\n",
            "4/4 [==============================] - 0s 20ms/step - loss: 0.3065 - accuracy: 0.8964\n",
            "Epoch 5/10\n",
            "4/4 [==============================] - 0s 19ms/step - loss: 0.2649 - accuracy: 0.9223\n",
            "Epoch 6/10\n",
            "4/4 [==============================] - 0s 19ms/step - loss: 0.2046 - accuracy: 0.9275\n",
            "Epoch 7/10\n",
            "4/4 [==============================] - 0s 20ms/step - loss: 0.1950 - accuracy: 0.9119\n",
            "Epoch 8/10\n",
            "4/4 [==============================] - 0s 19ms/step - loss: 0.1854 - accuracy: 0.9119\n",
            "Epoch 9/10\n",
            "4/4 [==============================] - 0s 19ms/step - loss: 0.1261 - accuracy: 0.9430\n",
            "Epoch 10/10\n",
            "4/4 [==============================] - 0s 19ms/step - loss: 0.1101 - accuracy: 0.9637\n"
          ]
        },
        {
          "output_type": "stream",
          "name": "stderr",
          "text": [
            "/usr/local/lib/python3.9/dist-packages/scikeras/wrappers.py:301: UserWarning: ``build_fn`` will be renamed to ``model`` in a future release, at which point use of ``build_fn`` will raise an Error instead.\n",
            "  warnings.warn(\n"
          ]
        },
        {
          "output_type": "stream",
          "name": "stdout",
          "text": [
            "Epoch 1/10\n",
            "4/4 [==============================] - 1s 7ms/step - loss: 0.6839 - accuracy: 0.5337\n",
            "Epoch 2/10\n",
            "4/4 [==============================] - 0s 7ms/step - loss: 0.6288 - accuracy: 0.8238\n",
            "Epoch 3/10\n",
            "4/4 [==============================] - 0s 7ms/step - loss: 0.5854 - accuracy: 0.7927\n",
            "Epoch 4/10\n",
            "4/4 [==============================] - 0s 7ms/step - loss: 0.5292 - accuracy: 0.9119\n",
            "Epoch 5/10\n",
            "4/4 [==============================] - 0s 6ms/step - loss: 0.4798 - accuracy: 0.8964\n",
            "Epoch 6/10\n",
            "4/4 [==============================] - 0s 7ms/step - loss: 0.4313 - accuracy: 0.8964\n",
            "Epoch 7/10\n",
            "4/4 [==============================] - 0s 7ms/step - loss: 0.3978 - accuracy: 0.9119\n",
            "Epoch 8/10\n",
            "4/4 [==============================] - 0s 7ms/step - loss: 0.3587 - accuracy: 0.9016\n",
            "Epoch 9/10\n",
            "4/4 [==============================] - 0s 6ms/step - loss: 0.3261 - accuracy: 0.8912\n",
            "Epoch 10/10\n",
            "4/4 [==============================] - 0s 6ms/step - loss: 0.3008 - accuracy: 0.8860\n"
          ]
        },
        {
          "output_type": "stream",
          "name": "stderr",
          "text": [
            "/usr/local/lib/python3.9/dist-packages/scikeras/wrappers.py:301: UserWarning: ``build_fn`` will be renamed to ``model`` in a future release, at which point use of ``build_fn`` will raise an Error instead.\n",
            "  warnings.warn(\n"
          ]
        },
        {
          "output_type": "stream",
          "name": "stdout",
          "text": [
            "Epoch 1/10\n",
            "4/4 [==============================] - 1s 7ms/step - loss: 0.6799 - accuracy: 0.6788\n",
            "Epoch 2/10\n",
            "4/4 [==============================] - 0s 7ms/step - loss: 0.6249 - accuracy: 0.7979\n",
            "Epoch 3/10\n",
            "4/4 [==============================] - 0s 7ms/step - loss: 0.5279 - accuracy: 0.8497\n",
            "Epoch 4/10\n",
            "4/4 [==============================] - 0s 7ms/step - loss: 0.4238 - accuracy: 0.9067\n",
            "Epoch 5/10\n",
            "4/4 [==============================] - 0s 7ms/step - loss: 0.3855 - accuracy: 0.9016\n",
            "Epoch 6/10\n",
            "4/4 [==============================] - 0s 7ms/step - loss: 0.2545 - accuracy: 0.8964\n",
            "Epoch 7/10\n",
            "4/4 [==============================] - 0s 8ms/step - loss: 0.3067 - accuracy: 0.8549\n",
            "Epoch 8/10\n",
            "4/4 [==============================] - 0s 7ms/step - loss: 0.1856 - accuracy: 0.9171\n",
            "Epoch 9/10\n",
            "4/4 [==============================] - 0s 7ms/step - loss: 0.1473 - accuracy: 0.9534\n",
            "Epoch 10/10\n",
            "4/4 [==============================] - 0s 7ms/step - loss: 0.1227 - accuracy: 0.9326\n",
            "1/1 [==============================] - 0s 104ms/step\n",
            "1/1 [==============================] - 0s 61ms/step\n",
            "1/1 [==============================] - 0s 58ms/step\n",
            "1/1 [==============================] - 0s 74ms/step\n"
          ]
        },
        {
          "output_type": "stream",
          "name": "stderr",
          "text": [
            "WARNING:tensorflow:5 out of the last 5 calls to <function Model.make_predict_function.<locals>.predict_function at 0x7f5c40088c10> triggered tf.function retracing. Tracing is expensive and the excessive number of tracings could be due to (1) creating @tf.function repeatedly in a loop, (2) passing tensors with different shapes, (3) passing Python objects instead of tensors. For (1), please define your @tf.function outside of the loop. For (2), @tf.function has reduce_retracing=True option that can avoid unnecessary retracing. For (3), please refer to https://www.tensorflow.org/guide/function#controlling_retracing and https://www.tensorflow.org/api_docs/python/tf/function for  more details.\n"
          ]
        },
        {
          "output_type": "stream",
          "name": "stdout",
          "text": [
            "1/1 [==============================] - 0s 61ms/step\n",
            "accuracy:  0.9795918367346939\n"
          ]
        }
      ]
    },
    {
      "cell_type": "code",
      "source": [
        "from sklearn.metrics import log_loss, accuracy_score\n",
        "\n",
        "y_pred = ensemble.predict(X_test)\n",
        "test_loss = log_loss(y_test, y_pred)\n",
        "accuracy = accuracy_score(y_test, y_pred)\n",
        "print(\"Accuracy:\", accuracy)\n",
        "print(\"Loss: \", test_loss)"
      ],
      "metadata": {
        "colab": {
          "base_uri": "https://localhost:8080/"
        },
        "id": "5EK1OYYrNajs",
        "outputId": "7f643be1-df25-4ca1-f8ff-569c8f5ee449"
      },
      "execution_count": 9,
      "outputs": [
        {
          "output_type": "stream",
          "name": "stdout",
          "text": [
            "1/1 [==============================] - 0s 26ms/step\n",
            "1/1 [==============================] - 0s 25ms/step\n",
            "1/1 [==============================] - 0s 25ms/step\n",
            "1/1 [==============================] - 0s 24ms/step\n",
            "1/1 [==============================] - 0s 26ms/step\n",
            "Accuracy: 0.9795918367346939\n",
            "Loss:  0.7355847630432074\n"
          ]
        }
      ]
    },
    {
      "cell_type": "code",
      "source": [
        "from sklearn.metrics import log_loss, accuracy_score\n",
        "\n",
        "\n",
        "y_pred = ensemble.predict(X_test)\n",
        "test_loss = log_loss(y_test, y_pred)\n",
        "accuracy = accuracy_score(y_test, y_pred)\n",
        "print(\"Accuracy:\", accuracy)\n",
        "print(\"Loss: \", test_loss)"
      ],
      "metadata": {
        "colab": {
          "base_uri": "https://localhost:8080/"
        },
        "id": "vLLHQ9NpsSHI",
        "outputId": "d3b50a24-591a-4a4f-82a7-71e0819f69a0"
      },
      "execution_count": 13,
      "outputs": [
        {
          "output_type": "stream",
          "name": "stdout",
          "text": [
            "Accuracy: 0.9795918367346939\n",
            "Loss:  0.7355847630432074\n"
          ]
        }
      ]
    },
    {
      "cell_type": "code",
      "source": [
        "from sklearn.metrics import confusion_matrix\n",
        "y_pred = ensemble.predict(X_test)\n",
        "confusion_matrix(y_test, y_pred)"
      ],
      "metadata": {
        "colab": {
          "base_uri": "https://localhost:8080/"
        },
        "id": "JCJ4znjKTmwv",
        "outputId": "19919f89-9891-481b-f675-6364a06b3639"
      },
      "execution_count": 11,
      "outputs": [
        {
          "output_type": "stream",
          "name": "stdout",
          "text": [
            "1/1 [==============================] - 0s 29ms/step\n",
            "1/1 [==============================] - 0s 26ms/step\n",
            "1/1 [==============================] - 0s 28ms/step\n",
            "1/1 [==============================] - 0s 25ms/step\n",
            "1/1 [==============================] - 0s 27ms/step\n"
          ]
        },
        {
          "output_type": "execute_result",
          "data": {
            "text/plain": [
              "array([[26,  1],\n",
              "       [ 0, 22]])"
            ]
          },
          "metadata": {},
          "execution_count": 11
        }
      ]
    },
    {
      "cell_type": "markdown",
      "source": [
        "# WSI Pipeline"
      ],
      "metadata": {
        "id": "MKSzlcPss6r7"
      }
    },
    {
      "cell_type": "code",
      "execution_count": 1,
      "metadata": {
        "id": "bYgyv7wl5Zsf"
      },
      "outputs": [],
      "source": [
        "import os\n",
        "import cv2\n",
        "\n",
        "datasetPath = \"/content/drive/MyDrive/Computational Genomics Project\"\n",
        "solidTissueNormal = []\n",
        "primaryTumor = []\n",
        "\n",
        "for filename in os.listdir(datasetPath):\n",
        "  if filename[-12:] == \"Cancerimages\" and filename[:5] != \"brain\":\n",
        "    path = os.path.join(datasetPath, filename, \"resizedImages\", \"solidTissueNormal\")\n",
        "    for img_file in os.listdir(path):\n",
        "      img = cv2.imread(os.path.join(path, img_file))\n",
        "      img = cv2.cvtColor(img, cv2.COLOR_BGR2RGB)\n",
        "      solidTissueNormal.append(img)\n",
        "    path = os.path.join(datasetPath, filename, \"resizedImages\", \"primaryTumor\")\n",
        "    for img_file in os.listdir(path):\n",
        "      img = cv2.imread(os.path.join(path, img_file))\n",
        "      img = cv2.cvtColor(img, cv2.COLOR_BGR2RGB)\n",
        "      primaryTumor.append(img)"
      ]
    },
    {
      "cell_type": "code",
      "source": [
        "import random\n",
        "import numpy as np\n",
        "from sklearn.model_selection import train_test_split\n",
        "from imblearn.over_sampling import SMOTE\n",
        "\n",
        "# Create label\n",
        "images = solidTissueNormal.copy()\n",
        "images.extend(primaryTumor)\n",
        "labels = [0] * len(solidTissueNormal)\n",
        "labels.extend([1] * len(primaryTumor))\n",
        "\n",
        "# Shuffle order\n",
        "temp = list(zip(images, labels))\n",
        "random.shuffle(temp)\n",
        "X, y = zip(*temp)\n",
        "# res1 and res2 come out as tuples, and so must be converted to lists.\n",
        "X, y = np.array(X), np.array(y)\n",
        "\n",
        "# Split data\n",
        "X_dev, X_test, y_dev, y_test = train_test_split(X, y, stratify=y, test_size=0.2, random_state=42)\n",
        "X_train, X_val, y_train, y_val = train_test_split(X_dev, y_dev, stratify=y_dev, test_size=0.1, random_state=42)"
      ],
      "metadata": {
        "id": "26jvKS8uEK4G"
      },
      "execution_count": 29,
      "outputs": []
    },
    {
      "cell_type": "code",
      "source": [
        "unique_values, counts = np.unique(y, return_counts=True)\n",
        "for value, count in zip(unique_values, counts):\n",
        "    print(f\"Class {value}: {count} instances\")"
      ],
      "metadata": {
        "colab": {
          "base_uri": "https://localhost:8080/"
        },
        "id": "lxMWDRPe0UGx",
        "outputId": "69b9ec6f-f73e-453a-e5d2-c67f0b145f83"
      },
      "execution_count": 5,
      "outputs": [
        {
          "output_type": "stream",
          "name": "stdout",
          "text": [
            "Class 0: 207 instances\n",
            "Class 1: 248 instances\n"
          ]
        }
      ]
    },
    {
      "cell_type": "markdown",
      "source": [
        "Augment"
      ],
      "metadata": {
        "id": "kdFG4piahX7F"
      }
    },
    {
      "cell_type": "code",
      "source": [
        "from keras.preprocessing.image import ImageDataGenerator\n",
        "\n",
        "train_datagen = ImageDataGenerator(\n",
        "    rescale=1./255,\n",
        "    rotation_range=40,\n",
        "    width_shift_range=0.2,\n",
        "    height_shift_range=0.2,\n",
        "    shear_range=0.2,\n",
        "    zoom_range=0.2\n",
        "    #channel_shift_range=20,  # adjust channel shift\n",
        "    #brightness_range=(0.8, 1.2)  # adjust brightness\n",
        "    )\n",
        "\n",
        "val_datagen = ImageDataGenerator(rescale=1./255)\n",
        "test_datagen = ImageDataGenerator(rescale=1./255)\n",
        "\n",
        "batch_size = 20\n",
        "\n",
        "train_generator = train_datagen.flow(X_train, y_train, batch_size)\n",
        "val_generator = val_datagen.flow(X_val, y_val, batch_size)\n",
        "\n",
        "X_test_final = test_datagen.flow(X_test, batch_size=len(X_test), shuffle=False).next()"
      ],
      "metadata": {
        "id": "ysrN35vhhXiV"
      },
      "execution_count": 30,
      "outputs": []
    },
    {
      "cell_type": "code",
      "source": [
        "import tensorflow as tf\n",
        "\n",
        "input_shape = (500,500,3)\n",
        "#X_val_images = X_val_images * 1. / 255\n",
        "\n",
        "#X_train_images = tf.image.per_image_standardization(X_train_final)\n",
        "#X_val_images = tf.image.per_image_standardization(X_val)\n",
        "#X_test_images = tf.image.per_image_standardization(X_test)\n",
        "\n",
        "#X_dev_images = X_dev.reshape(X_dev.shape[0], 227, 227, 3)\n",
        "#X_test_images = X_test.reshape(X_test.shape[0], 227, 227, 3)\n",
        "num_classes = 2"
      ],
      "metadata": {
        "id": "hiLKf798HV3M"
      },
      "execution_count": 17,
      "outputs": []
    },
    {
      "cell_type": "markdown",
      "source": [
        "python version of alexnet"
      ],
      "metadata": {
        "id": "SQl_zdCqyAB6"
      }
    },
    {
      "cell_type": "code",
      "source": [
        "from tensorflow import keras\n",
        "import matplotlib.pyplot as plt\n",
        "import time\n",
        "\n",
        "model = keras.models.Sequential([\n",
        "    keras.layers.Conv2D(filters=96, kernel_size=(11,11), strides=(4,4), activation='relu', input_shape=input_shape),\n",
        "    keras.layers.BatchNormalization(),\n",
        "    keras.layers.MaxPool2D(pool_size=(3,3), strides=(2,2)),\n",
        "    keras.layers.Conv2D(filters=256, kernel_size=(5,5), strides=(1,1), activation='relu', padding=\"same\"),\n",
        "    keras.layers.BatchNormalization(),\n",
        "    keras.layers.MaxPool2D(pool_size=(3,3), strides=(2,2)),\n",
        "    keras.layers.Conv2D(filters=384, kernel_size=(3,3), strides=(1,1), activation='relu', padding=\"same\"),\n",
        "    keras.layers.BatchNormalization(),\n",
        "    keras.layers.Conv2D(filters=384, kernel_size=(3,3), strides=(1,1), activation='relu', padding=\"same\"),\n",
        "    keras.layers.BatchNormalization(),\n",
        "    keras.layers.Conv2D(filters=256, kernel_size=(3,3), strides=(1,1), activation='relu', padding=\"same\"),\n",
        "    keras.layers.BatchNormalization(),\n",
        "    keras.layers.MaxPool2D(pool_size=(3,3), strides=(2,2)),\n",
        "    keras.layers.Flatten(),\n",
        "    keras.layers.Dense(4096, activation='relu'),\n",
        "    keras.layers.Dropout(0.5),\n",
        "    keras.layers.Dense(4096, activation='relu'),\n",
        "    keras.layers.Dropout(0.5),\n",
        "    keras.layers.Dense(2, activation='softmax')\n",
        "])\n",
        "\n",
        "model.summary()"
      ],
      "metadata": {
        "colab": {
          "base_uri": "https://localhost:8080/"
        },
        "id": "DG7nFMK-tu8d",
        "outputId": "4e813438-b5c6-4e4d-956a-1d7d736773a9"
      },
      "execution_count": 31,
      "outputs": [
        {
          "output_type": "stream",
          "name": "stdout",
          "text": [
            "Model: \"sequential_2\"\n",
            "_________________________________________________________________\n",
            " Layer (type)                Output Shape              Param #   \n",
            "=================================================================\n",
            " conv2d_10 (Conv2D)          (None, 123, 123, 96)      34944     \n",
            "                                                                 \n",
            " batch_normalization_10 (Bat  (None, 123, 123, 96)     384       \n",
            " chNormalization)                                                \n",
            "                                                                 \n",
            " max_pooling2d_6 (MaxPooling  (None, 61, 61, 96)       0         \n",
            " 2D)                                                             \n",
            "                                                                 \n",
            " conv2d_11 (Conv2D)          (None, 61, 61, 256)       614656    \n",
            "                                                                 \n",
            " batch_normalization_11 (Bat  (None, 61, 61, 256)      1024      \n",
            " chNormalization)                                                \n",
            "                                                                 \n",
            " max_pooling2d_7 (MaxPooling  (None, 30, 30, 256)      0         \n",
            " 2D)                                                             \n",
            "                                                                 \n",
            " conv2d_12 (Conv2D)          (None, 30, 30, 384)       885120    \n",
            "                                                                 \n",
            " batch_normalization_12 (Bat  (None, 30, 30, 384)      1536      \n",
            " chNormalization)                                                \n",
            "                                                                 \n",
            " conv2d_13 (Conv2D)          (None, 30, 30, 384)       1327488   \n",
            "                                                                 \n",
            " batch_normalization_13 (Bat  (None, 30, 30, 384)      1536      \n",
            " chNormalization)                                                \n",
            "                                                                 \n",
            " conv2d_14 (Conv2D)          (None, 30, 30, 256)       884992    \n",
            "                                                                 \n",
            " batch_normalization_14 (Bat  (None, 30, 30, 256)      1024      \n",
            " chNormalization)                                                \n",
            "                                                                 \n",
            " max_pooling2d_8 (MaxPooling  (None, 14, 14, 256)      0         \n",
            " 2D)                                                             \n",
            "                                                                 \n",
            " flatten_2 (Flatten)         (None, 50176)             0         \n",
            "                                                                 \n",
            " dense_6 (Dense)             (None, 4096)              205524992 \n",
            "                                                                 \n",
            " dropout_4 (Dropout)         (None, 4096)              0         \n",
            "                                                                 \n",
            " dense_7 (Dense)             (None, 4096)              16781312  \n",
            "                                                                 \n",
            " dropout_5 (Dropout)         (None, 4096)              0         \n",
            "                                                                 \n",
            " dense_8 (Dense)             (None, 2)                 8194      \n",
            "                                                                 \n",
            "=================================================================\n",
            "Total params: 226,067,202\n",
            "Trainable params: 226,064,450\n",
            "Non-trainable params: 2,752\n",
            "_________________________________________________________________\n"
          ]
        }
      ]
    },
    {
      "cell_type": "code",
      "source": [
        "from keras.optimizers import Adam\n",
        "model.compile(loss='sparse_categorical_crossentropy', optimizer=tf.optimizers.SGD(learning_rate=1e-5), metrics=['accuracy'])\n",
        "\n",
        "history = model.fit(\n",
        "    train_generator,\n",
        "    steps_per_epoch=len(X_train) // 32, # number of batches per epoch\n",
        "    epochs=20,\n",
        "    validation_data=val_generator,\n",
        "    validation_steps=len(X_val) // 32 # number of batches for validation\n",
        ")"
      ],
      "metadata": {
        "colab": {
          "base_uri": "https://localhost:8080/"
        },
        "id": "h2rhXnF3txK9",
        "outputId": "857f0cf4-1947-4330-f3b9-1f5bf80c1489"
      },
      "execution_count": 41,
      "outputs": [
        {
          "output_type": "stream",
          "name": "stdout",
          "text": [
            "Epoch 1/20\n",
            "10/10 [==============================] - 12s 1s/step - loss: 1.3229 - accuracy: 0.7250 - val_loss: 9.0539 - val_accuracy: 0.5500\n",
            "Epoch 2/20\n",
            "10/10 [==============================] - 10s 988ms/step - loss: 1.2240 - accuracy: 0.6898 - val_loss: 7.1373 - val_accuracy: 0.6000\n",
            "Epoch 3/20\n",
            "10/10 [==============================] - 10s 986ms/step - loss: 1.0746 - accuracy: 0.7807 - val_loss: 5.6729 - val_accuracy: 0.6000\n",
            "Epoch 4/20\n",
            "10/10 [==============================] - 11s 1s/step - loss: 1.2288 - accuracy: 0.7500 - val_loss: 5.7844 - val_accuracy: 0.5500\n",
            "Epoch 5/20\n",
            "10/10 [==============================] - 10s 983ms/step - loss: 1.1917 - accuracy: 0.7326 - val_loss: 5.5837 - val_accuracy: 0.4500\n",
            "Epoch 6/20\n",
            "10/10 [==============================] - 11s 1s/step - loss: 1.4189 - accuracy: 0.7800 - val_loss: 3.6751 - val_accuracy: 0.5500\n",
            "Epoch 7/20\n",
            "10/10 [==============================] - 11s 1s/step - loss: 0.9119 - accuracy: 0.7650 - val_loss: 3.9428 - val_accuracy: 0.5000\n",
            "Epoch 8/20\n",
            "10/10 [==============================] - 11s 1s/step - loss: 1.6130 - accuracy: 0.7550 - val_loss: 3.9042 - val_accuracy: 0.4000\n",
            "Epoch 9/20\n",
            "10/10 [==============================] - 10s 984ms/step - loss: 1.3808 - accuracy: 0.7380 - val_loss: 2.3856 - val_accuracy: 0.6500\n",
            "Epoch 10/20\n",
            "10/10 [==============================] - 11s 1s/step - loss: 1.0778 - accuracy: 0.7100 - val_loss: 1.8104 - val_accuracy: 0.6000\n",
            "Epoch 11/20\n",
            "10/10 [==============================] - 10s 970ms/step - loss: 1.1945 - accuracy: 0.7380 - val_loss: 1.0301 - val_accuracy: 0.6500\n",
            "Epoch 12/20\n",
            "10/10 [==============================] - 10s 995ms/step - loss: 1.1714 - accuracy: 0.6684 - val_loss: 1.2520 - val_accuracy: 0.6500\n",
            "Epoch 13/20\n",
            "10/10 [==============================] - 11s 1s/step - loss: 1.1098 - accuracy: 0.7550 - val_loss: 0.8465 - val_accuracy: 0.7500\n",
            "Epoch 14/20\n",
            "10/10 [==============================] - 11s 1s/step - loss: 0.9019 - accuracy: 0.7550 - val_loss: 0.6580 - val_accuracy: 0.8000\n",
            "Epoch 15/20\n",
            "10/10 [==============================] - 10s 992ms/step - loss: 0.9678 - accuracy: 0.7112 - val_loss: 0.9039 - val_accuracy: 0.7500\n",
            "Epoch 16/20\n",
            "10/10 [==============================] - 10s 991ms/step - loss: 0.8493 - accuracy: 0.7380 - val_loss: 0.7305 - val_accuracy: 0.7500\n",
            "Epoch 17/20\n",
            "10/10 [==============================] - 11s 1s/step - loss: 0.6405 - accuracy: 0.7600 - val_loss: 0.7166 - val_accuracy: 0.7500\n",
            "Epoch 18/20\n",
            "10/10 [==============================] - 10s 992ms/step - loss: 1.4725 - accuracy: 0.7968 - val_loss: 0.6783 - val_accuracy: 0.7500\n",
            "Epoch 19/20\n",
            "10/10 [==============================] - 11s 1s/step - loss: 0.7450 - accuracy: 0.7750 - val_loss: 0.5049 - val_accuracy: 0.8500\n",
            "Epoch 20/20\n",
            "10/10 [==============================] - 11s 1s/step - loss: 1.1233 - accuracy: 0.7050 - val_loss: 0.3444 - val_accuracy: 0.9500\n"
          ]
        }
      ]
    },
    {
      "cell_type": "code",
      "source": [
        "import matplotlib.pyplot as plt\n",
        "# a. train vs validation loss over each epoch\n",
        "plt.plot(history.history['loss'], label='Train Loss')\n",
        "plt.plot(history.history['val_loss'], label='Val Loss')\n",
        "plt.title('Train vs. Validation Loss')\n",
        "plt.xlabel('Epoch')\n",
        "plt.ylabel('Loss')\n",
        "plt.legend()\n",
        "plt.show()\n",
        "\n",
        "# b. train vs validation accuracy over each epoch\n",
        "plt.plot(history.history['accuracy'], label='Train Accuracy')\n",
        "plt.plot(history.history['val_accuracy'], label='Val Accuracy')\n",
        "plt.title('Train vs. Validation Accuracy')\n",
        "plt.xlabel('Epoch')\n",
        "plt.ylabel('Accuracy')\n",
        "plt.legend()\n",
        "plt.show()"
      ],
      "metadata": {
        "colab": {
          "base_uri": "https://localhost:8080/",
          "height": 927
        },
        "id": "8xjbQdAwK-TD",
        "outputId": "2511b878-04af-44e0-e871-35df1cc372ec"
      },
      "execution_count": 42,
      "outputs": [
        {
          "output_type": "display_data",
          "data": {
            "text/plain": [
              "<Figure size 640x480 with 1 Axes>"
            ],
            "image/png": "[encoded data removed]"
          },
          "metadata": {}
        },
        {
          "output_type": "display_data",
          "data": {
            "text/plain": [
              "<Figure size 640x480 with 1 Axes>"
            ],
            "image/png": "[encoded data removed]"
          },
          "metadata": {}
        }
      ]
    },
    {
      "cell_type": "code",
      "source": [
        "test_loss, test_accuracy = model.evaluate(X_test_final, y_test)\n",
        "print(\"\\n=====Results=====\")\n",
        "print(\"Test Loss: \", test_loss)\n",
        "print(\"Test Accuracy: \", test_accuracy)"
      ],
      "metadata": {
        "colab": {
          "base_uri": "https://localhost:8080/"
        },
        "id": "5ILiqsM-LLEu",
        "outputId": "29d69a1b-70dc-4c76-d545-2549831fd046"
      },
      "execution_count": 43,
      "outputs": [
        {
          "output_type": "stream",
          "name": "stdout",
          "text": [
            "3/3 [==============================] - 0s 33ms/step - loss: 0.4069 - accuracy: 0.8242\n",
            "\n",
            "=====Results=====\n",
            "Test Loss:  0.40685656666755676\n",
            "Test Accuracy:  0.8241758346557617\n"
          ]
        }
      ]
    },
    {
      "cell_type": "code",
      "source": [
        "X_test_final.shape"
      ],
      "metadata": {
        "colab": {
          "base_uri": "https://localhost:8080/"
        },
        "id": "r5h6wfjepGSJ",
        "outputId": "6d566d08-79f0-4d29-dd89-da606e8f5bae"
      },
      "execution_count": 58,
      "outputs": [
        {
          "output_type": "execute_result",
          "data": {
            "text/plain": [
              "(32, 500, 500, 3)"
            ]
          },
          "metadata": {},
          "execution_count": 58
        }
      ]
    },
    {
      "cell_type": "code",
      "source": [
        "print(\"Train loss: \", history.history['loss'])\n",
        "print(\"Val loss: \", history.history['val_loss'])\n",
        "print(\"Train acc: \", history.history['accuracy'])\n",
        "print(\"Val acc: \", history.history['val_accuracy'])"
      ],
      "metadata": {
        "colab": {
          "base_uri": "https://localhost:8080/"
        },
        "id": "hBmP3aYYLGxy",
        "outputId": "37e6aeec-0b2e-4d7c-b5e7-933a5f779abc"
      },
      "execution_count": 59,
      "outputs": [
        {
          "output_type": "stream",
          "name": "stdout",
          "text": [
            "Train loss:  [1.2918726205825806, 1.092654824256897, 1.1572725772857666, 0.835064709186554, 0.981141209602356, 1.1276119947433472, 0.8853039145469666, 0.908258855342865, 0.8082365989685059, 0.8257321119308472, 0.8201183080673218, 0.7132312059402466, 0.8778815865516663, 0.8641526699066162, 0.7207425236701965, 0.7515536546707153, 0.7843835353851318, 0.9017502069473267, 0.9158895611763, 0.8136439323425293]\n",
            "Val loss:  [0.7100250720977783, 0.7181448340415955, 0.8236373662948608, 0.90376877784729, 1.096996545791626, 1.2177438735961914, 1.3336620330810547, 1.2182693481445312, 1.609422206878662, 1.705047369003296, 1.9834568500518799, 1.8888905048370361, 1.992143988609314, 1.701277256011963, 1.8770596981048584, 2.099928855895996, 2.146632671356201, 2.0826642513275146, 1.7396920919418335, 1.7950828075408936]\n",
            "Train acc:  [0.6177605986595154, 0.6602316498756409, 0.6447876691818237, 0.6988416910171509, 0.7297297120094299, 0.6486486196517944, 0.7118055820465088, 0.7374517321586609, 0.7258687019348145, 0.7065637111663818, 0.7220077514648438, 0.7567567825317383, 0.6872586607933044, 0.7335907220840454, 0.760617733001709, 0.7528957724571228, 0.7490347623825073, 0.7297297120094299, 0.6602316498756409, 0.6872586607933044]\n",
            "Val acc:  [0.546875, 0.546875, 0.515625, 0.546875, 0.53125, 0.578125, 0.5625, 0.5625, 0.515625, 0.53125, 0.53125, 0.53125, 0.578125, 0.5625, 0.546875, 0.546875, 0.515625, 0.546875, 0.578125, 0.578125]\n"
          ]
        }
      ]
    },
    {
      "cell_type": "code",
      "source": [
        "from sklearn.metrics import confusion_matrix\n",
        "y_pred = model.predict(X_test_images)\n",
        "print(y_pred)"
      ],
      "metadata": {
        "colab": {
          "base_uri": "https://localhost:8080/"
        },
        "id": "VIHDzOgELO04",
        "outputId": "2dff7b4d-ab81-4f0b-e924-dc1ba927c350"
      },
      "execution_count": 30,
      "outputs": [
        {
          "output_type": "stream",
          "name": "stdout",
          "text": [
            "3/3 [==============================] - 0s 30ms/step\n",
            "[[9.9294209e-01 7.0579043e-03]\n",
            " [9.5280308e-01 4.7196951e-02]\n",
            " [5.8280629e-01 4.1719371e-01]\n",
            " [8.9598563e-04 9.9910396e-01]\n",
            " [2.5640908e-03 9.9743599e-01]\n",
            " [1.1763894e-03 9.9882358e-01]\n",
            " [1.5549321e-01 8.4450674e-01]\n",
            " [2.3604428e-02 9.7639561e-01]\n",
            " [2.8633631e-03 9.9713659e-01]\n",
            " [9.8033398e-01 1.9665986e-02]\n",
            " [8.2208331e-05 9.9991775e-01]\n",
            " [1.2305629e-01 8.7694365e-01]\n",
            " [9.4806030e-04 9.9905199e-01]\n",
            " [8.7464956e-05 9.9991250e-01]\n",
            " [6.0210901e-01 3.9789099e-01]\n",
            " [3.6294267e-02 9.6370572e-01]\n",
            " [8.8417255e-05 9.9991155e-01]\n",
            " [2.0391919e-02 9.7960806e-01]\n",
            " [6.3173264e-02 9.3682677e-01]\n",
            " [6.8390375e-01 3.1609625e-01]\n",
            " [1.3746837e-01 8.6253160e-01]\n",
            " [1.5397528e-04 9.9984598e-01]\n",
            " [1.4955570e-02 9.8504448e-01]\n",
            " [2.7496502e-01 7.2503495e-01]\n",
            " [2.9796079e-01 7.0203918e-01]\n",
            " [7.7778757e-02 9.2222118e-01]\n",
            " [2.7221146e-01 7.2778851e-01]\n",
            " [2.6439877e-02 9.7356015e-01]\n",
            " [5.7340872e-01 4.2659131e-01]\n",
            " [4.4222265e-02 9.5577776e-01]\n",
            " [6.4061792e-03 9.9359387e-01]\n",
            " [3.1197927e-04 9.9968803e-01]\n",
            " [1.6518515e-03 9.9834812e-01]\n",
            " [8.7245542e-01 1.2754466e-01]\n",
            " [3.1721618e-02 9.6827835e-01]\n",
            " [8.1737031e-04 9.9918264e-01]\n",
            " [3.4938115e-03 9.9650621e-01]\n",
            " [3.5972547e-04 9.9964023e-01]\n",
            " [5.0374454e-01 4.9625543e-01]\n",
            " [1.8270880e-03 9.9817288e-01]\n",
            " [3.4645034e-03 9.9653554e-01]\n",
            " [7.8380376e-02 9.2161965e-01]\n",
            " [9.9124569e-01 8.7542543e-03]\n",
            " [5.8512367e-05 9.9994147e-01]\n",
            " [9.4552222e-04 9.9905449e-01]\n",
            " [1.2335671e-02 9.8766428e-01]\n",
            " [2.6576738e-03 9.9734229e-01]\n",
            " [5.2337676e-02 9.4766229e-01]\n",
            " [1.6547873e-03 9.9834526e-01]\n",
            " [1.1425915e-02 9.8857415e-01]\n",
            " [9.8368682e-02 9.0163130e-01]\n",
            " [1.2769799e-01 8.7230200e-01]\n",
            " [8.7693706e-03 9.9123061e-01]\n",
            " [1.1214567e-02 9.8878539e-01]\n",
            " [1.0266085e-03 9.9897337e-01]\n",
            " [8.6753440e-01 1.3246565e-01]\n",
            " [4.7656982e-03 9.9523431e-01]\n",
            " [1.5017809e-02 9.8498225e-01]\n",
            " [1.2603432e-01 8.7396574e-01]\n",
            " [9.7084075e-01 2.9159207e-02]\n",
            " [4.4741575e-03 9.9552578e-01]\n",
            " [7.2942275e-01 2.7057731e-01]\n",
            " [1.7970026e-03 9.9820304e-01]\n",
            " [6.2632188e-02 9.3736786e-01]\n",
            " [3.3936576e-05 9.9996603e-01]\n",
            " [3.4800291e-03 9.9651992e-01]\n",
            " [1.8533416e-03 9.9814665e-01]\n",
            " [2.7969104e-04 9.9972028e-01]\n",
            " [1.7076674e-04 9.9982917e-01]\n",
            " [7.5751615e-01 2.4248385e-01]\n",
            " [2.0483033e-01 7.9516965e-01]\n",
            " [2.6059678e-01 7.3940325e-01]\n",
            " [4.3572772e-02 9.5642722e-01]\n",
            " [2.4768956e-01 7.5231051e-01]\n",
            " [2.2782788e-03 9.9772173e-01]\n",
            " [2.2056815e-01 7.7943182e-01]\n",
            " [4.6860706e-03 9.9531388e-01]\n",
            " [9.2687953e-01 7.3120460e-02]\n",
            " [1.8253191e-03 9.9817467e-01]\n",
            " [7.9456540e-03 9.9205434e-01]\n",
            " [2.6033288e-02 9.7396672e-01]\n",
            " [2.1527665e-02 9.7847235e-01]\n",
            " [1.9852424e-03 9.9801469e-01]\n",
            " [5.5766746e-02 9.4423324e-01]\n",
            " [3.9843679e-03 9.9601561e-01]\n",
            " [1.9890390e-01 8.0109608e-01]\n",
            " [8.5631871e-01 1.4368126e-01]\n",
            " [2.6994336e-03 9.9730057e-01]\n",
            " [2.8364234e-02 9.7163582e-01]\n",
            " [5.7386202e-03 9.9426138e-01]\n",
            " [2.2510651e-01 7.7489352e-01]]\n"
          ]
        }
      ]
    }
  ]
}